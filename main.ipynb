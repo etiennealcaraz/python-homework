{
 "cells": [
  {
   "cell_type": "code",
   "execution_count": 340,
   "metadata": {},
   "outputs": [],
   "source": [
    "import os\n",
    "import csv"
   ]
  },
  {
   "cell_type": "code",
   "execution_count": 341,
   "metadata": {},
   "outputs": [],
   "source": [
    "pybanks = os.path.join(\"budget_data.csv\")"
   ]
  },
  {
   "cell_type": "code",
   "execution_count": 342,
   "metadata": {},
   "outputs": [],
   "source": [
    "profit = []\n",
    "monthly_changes = []\n",
    "date = []"
   ]
  },
  {
   "cell_type": "code",
   "execution_count": 343,
   "metadata": {},
   "outputs": [],
   "source": [
    "total_months = 0\n",
    "total_profit = 0\n",
    "total_change_profits = 0\n",
    "initial_profit = 0"
   ]
  },
  {
   "cell_type": "code",
   "execution_count": 344,
   "metadata": {},
   "outputs": [],
   "source": [
    "with open(pybanks,newline=\"\") as csvfile:\n",
    "    csvreader = csv.reader(csvfile, delimiter=\",\")\n",
    "    csv_header = next(csvreader)\n",
    "    for row in csvreader:\n",
    "        total_months = count\n",
    "        date.append(row[0])\n",
    "        profit.append(row[1])\n",
    "        total_profit = total_profit + int(row[1])\n",
    "        final_profit = int(row[1])\n",
    "        monthly_change_profits = final_profit - initial_profit\n",
    "        monthly_changes.append(monthly_change_profits)\n",
    "        total_change_profits = total_change_profits + monthly_change_profits\n",
    "        initial_profit = final_profit\n",
    "        average_change_profits = sum(monthly_changes)/len(monthly_changes)\n",
    "        greatest_increase_profits = max(monthly_changes)\n",
    "        greatest_decrease_profits = min(monthly_changes)\n",
    "        increase_date = date[monthly_changes.index(greatest_increase_profits)]\n",
    "        decrease_date = date[monthly_changes.index(greatest_decrease_profits)]"
   ]
  },
  {
   "cell_type": "code",
   "execution_count": 345,
   "metadata": {},
   "outputs": [
    {
     "name": "stdout",
     "output_type": "stream",
     "text": [
      "Finanical Analysis\n",
      "-----------------------\n",
      "Total Months: 86\n",
      "Total: $38382578\n",
      "Average Change: $7803\n",
      "Greatest Increase in Profits: Feb-2012($1926159)\n",
      "Greatest Decrease in Profits: Sep-2013($-2196167)\n"
     ]
    }
   ],
   "source": [
    "print(\"Finanical Analysis\")\n",
    "print(\"-----------------------\")\n",
    "print(\"Total Months: \" + str(total_months))\n",
    "print(\"Total: \" + \"$\" + str (total_profit))\n",
    "print(\"Average Change: \" + \"$\" + str(int(average_change_profits)))\n",
    "print(\"Greatest Increase in Profits: \" + str(increase_date) + \"($\" + str(greatest_increase_profits) +\")\")\n",
    "print(\"Greatest Decrease in Profits: \" + str(decrease_date) + \"($\" + str(greatest_decrease_profits) +\")\")"
   ]
  },
  {
   "cell_type": "code",
   "execution_count": 339,
   "metadata": {},
   "outputs": [],
   "source": [
    "with open('Financial_Analysis.txt', 'w') as text:\n",
    "    text.write(\"Finanical Analysis\" + \"\\n\")\n",
    "    text.write(\"-----------------------\"+ \"\\n\")\n",
    "    text.write(\"Total Months: \" + str(total_months)+ \"\\n\")\n",
    "    text.write(\"Total: \" + \"$\" + str (total_profit)+ \"\\n\")\n",
    "    text.write(\"Average Change: \" + \"$\" + str(int(average_change_profits))+ \"\\n\")\n",
    "    text.write(\"Greatest Increase in Profits: \" + str(increase_date) + \"($\" + str(greatest_increase_profits) +\")\"+ \"\\n\")\n",
    "    text.write(\"Greatest Decrease in Profits: \" + str(decrease_date) + \"($\" + str(greatest_decrease_profits) +\")\"+ \"\\n\")"
   ]
  },
  {
   "cell_type": "code",
   "execution_count": null,
   "metadata": {},
   "outputs": [],
   "source": []
  },
  {
   "cell_type": "code",
   "execution_count": null,
   "metadata": {},
   "outputs": [],
   "source": []
  }
 ],
 "metadata": {
  "kernelspec": {
   "display_name": "Python 3",
   "language": "python",
   "name": "python3"
  },
  "language_info": {
   "codemirror_mode": {
    "name": "ipython",
    "version": 3
   },
   "file_extension": ".py",
   "mimetype": "text/x-python",
   "name": "python",
   "nbconvert_exporter": "python",
   "pygments_lexer": "ipython3",
   "version": "3.8.3"
  }
 },
 "nbformat": 4,
 "nbformat_minor": 4
}
